{
 "cells": [
  {
   "cell_type": "code",
   "execution_count": 9,
   "metadata": {},
   "outputs": [],
   "source": [
    "import cv2\n",
    "import numpy as np"
   ]
  },
  {
   "cell_type": "code",
   "execution_count": 10,
   "metadata": {},
   "outputs": [],
   "source": [
    "def create_white_background(width=800, height=600):\n",
    "    return np.ones((height, width, 3), dtype=np.uint8) * 255\n",
    "\n",
    "background = create_white_background()\n",
    "cv2.imshow('White Background', background)\n",
    "cv2.waitKey(0)\n",
    "cv2.destroyAllWindows()"
   ]
  },
  {
   "cell_type": "code",
   "execution_count": 11,
   "metadata": {},
   "outputs": [],
   "source": [
    "drawing = False\n",
    "p1 = (0, 0)\n",
    "p2 = (0, 0)\n",
    "\n",
    "def draw_rectangle(event, x, y, flags, param):\n",
    "    global p1, p2, drawing\n",
    "\n",
    "    if event == cv2.EVENT_LBUTTONDOWN:\n",
    "        drawing = True\n",
    "        p1 = (x, y)\n",
    "\n",
    "    elif event == cv2.EVENT_MOUSEMOVE:\n",
    "        if drawing:\n",
    "            img_copy = param.copy()\n",
    "            p2 = (x, y)\n",
    "            cv2.rectangle(img_copy, p1, p2, (0, 0, 255), 2)\n",
    "            cv2.imshow('Draw Rectangle', img_copy)\n",
    "\n",
    "    elif event == cv2.EVENT_LBUTTONUP:\n",
    "        drawing = False\n",
    "        p2 = (x, y)\n",
    "        cv2.rectangle(param, p1, p2, (0, 0, 255), 2)\n",
    "        cv2.imshow('Draw Rectangle', param)"
   ]
  },
  {
   "cell_type": "code",
   "execution_count": 12,
   "metadata": {},
   "outputs": [],
   "source": [
    "def translate_rectangle(p1, p2, tx, ty):\n",
    "    new_p1 = (p1[0] + tx, p1[1] + ty)\n",
    "    new_p2 = (p2[0] + tx, p2[1] + ty)\n",
    "    return new_p1, new_p2"
   ]
  },
  {
   "cell_type": "code",
   "execution_count": 13,
   "metadata": {},
   "outputs": [],
   "source": [
    "def rotate_point(point, angle, center):\n",
    "    angle_rad = np.radians(angle)\n",
    "    x, y = point\n",
    "    cx, cy = center\n",
    "    new_x = int(cx + (x - cx) * np.cos(angle_rad) - (y - cy) * np.sin(angle_rad))\n",
    "    new_y = int(cy + (x - cx) * np.sin(angle_rad) + (y - cy) * np.cos(angle_rad))\n",
    "    return new_x, new_y"
   ]
  },
  {
   "cell_type": "code",
   "execution_count": 14,
   "metadata": {},
   "outputs": [],
   "source": [
    "def scale_rectangle(p1, p2, scale_x, scale_y):\n",
    "    center = ((p1[0] + p2[0]) // 2, (p1[1] + p2[1]) // 2)\n",
    "    new_p1 = (int(center[0] + (p1[0] - center[0]) * scale_x), int(center[1] + (p1[1] - center[1]) * scale_y))\n",
    "    new_p2 = (int(center[0] + (p2[0] - center[0]) * scale_x), int(center[1] + (p2[1] - center[1]) * scale_y))\n",
    "    return new_p1, new_p2"
   ]
  },
  {
   "cell_type": "code",
   "execution_count": 15,
   "metadata": {},
   "outputs": [],
   "source": [
    "def rotate_rectangle(p1, p2, angle):\n",
    "    center = ((p1[0] + p2[0]) // 2, (p1[1] + p2[1]) // 2)\n",
    "    new_p1 = rotate_point(p1, angle, center)\n",
    "    new_p2 = rotate_point(p2, angle, center)\n",
    "    return new_p1, new_p2\n",
    "\n",
    "cv2.namedWindow('Draw Rectangle')\n",
    "img = create_white_background()\n",
    "cv2.setMouseCallback('Draw Rectangle', draw_rectangle, param=img)\n",
    "\n",
    "while True:\n",
    "    cv2.imshow('Draw Rectangle', img)\n",
    "    key = cv2.waitKey(0) & 0xFF\n",
    "\n",
    "    if key == ord('q'):\n",
    "        break\n",
    "    elif key == ord('t'):\n",
    "        tx = int(input(\"Nhập số pixel di chuyển theo trục x: \"))\n",
    "        ty = int(input(\"Nhập số pixel di chuyển theo trục y: \"))\n",
    "        img_copy = img.copy()\n",
    "        new_p1, new_p2 = translate_rectangle(p1, p2, tx, ty)\n",
    "        cv2.rectangle(img_copy, new_p1, new_p2, (0, 255, 0), 2)\n",
    "        img = img_copy\n",
    "        p1, p2 = new_p1, new_p2\n",
    "    elif key == ord('r'): \n",
    "        angle = float(input(\"Nhập góc xoay (độ): \"))\n",
    "        img_copy = img.copy()\n",
    "        new_p1, new_p2 = rotate_rectangle(p1, p2, angle)\n",
    "        cv2.rectangle(img_copy, new_p1, new_p2, (255, 0, 0), 2)\n",
    "        img = img_copy\n",
    "        p1, p2 = new_p1, new_p2\n",
    "    elif key == ord('s'):\n",
    "        scale_x = float(input(\"Nhập tỉ lệ thay đổi theo trục x: \"))\n",
    "        scale_y = float(input(\"Nhập tỉ lệ thay đổi theo trục y: \"))\n",
    "        img_copy = img.copy()\n",
    "        new_p1, new_p2 = scale_rectangle(p1, p2, scale_x, scale_y)\n",
    "        cv2.rectangle(img_copy, new_p1, new_p2, (0, 255, 255), 2)\n",
    "        img = img_copy\n",
    "        p1, p2 = new_p1, new_p2\n",
    "\n",
    "cv2.destroyAllWindows()"
   ]
  }
 ],
 "metadata": {
  "kernelspec": {
   "display_name": "Python 3",
   "language": "python",
   "name": "python3"
  },
  "language_info": {
   "codemirror_mode": {
    "name": "ipython",
    "version": 3
   },
   "file_extension": ".py",
   "mimetype": "text/x-python",
   "name": "python",
   "nbconvert_exporter": "python",
   "pygments_lexer": "ipython3",
   "version": "3.10.11"
  }
 },
 "nbformat": 4,
 "nbformat_minor": 2
}
